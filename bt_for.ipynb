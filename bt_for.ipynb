{
  "nbformat": 4,
  "nbformat_minor": 0,
  "metadata": {
    "colab": {
      "provenance": [],
      "authorship_tag": "ABX9TyPX4DT0w8ZcG2Em3SDjmHfH",
      "include_colab_link": true
    },
    "kernelspec": {
      "name": "python3",
      "display_name": "Python 3"
    },
    "language_info": {
      "name": "python"
    }
  },
  "cells": [
    {
      "cell_type": "markdown",
      "metadata": {
        "id": "view-in-github",
        "colab_type": "text"
      },
      "source": [
        "<a href=\"https://colab.research.google.com/github/thanhduc17/bai_tap_python_k2/blob/master/bt_for.ipynb\" target=\"_parent\"><img src=\"https://colab.research.google.com/assets/colab-badge.svg\" alt=\"Open In Colab\"/></a>"
      ]
    },
    {
      "cell_type": "markdown",
      "source": [
        "Bài 1:\n",
        "\n",
        "\n",
        "1.S = 1 + 2 + 3 + ⋯ + n\n",
        " với 0 < n ∈ N"
      ],
      "metadata": {
        "id": "m_bTe9QdbUci"
      }
    },
    {
      "cell_type": "code",
      "source": [
        "import numpy as np\n",
        "n = int(input(\"nhập một số nguyên :\"))\n",
        "s = 1\n",
        "for i in range (1,n):\n",
        "      i=i+1\n",
        "      s = s + i\n",
        "      print(i,s) \n",
        "print (\"Tổng của 1 đến \",n,\"là:\",s)"
      ],
      "metadata": {
        "id": "kRRxuSX5avKN",
        "colab": {
          "base_uri": "https://localhost:8080/"
        },
        "outputId": "d04607e5-fff8-4411-b266-7cb223675f0b"
      },
      "execution_count": null,
      "outputs": [
        {
          "output_type": "stream",
          "name": "stdout",
          "text": [
            "nhập một số nguyên :7\n",
            "2 3\n",
            "3 6\n",
            "4 10\n",
            "5 15\n",
            "6 21\n",
            "7 28\n",
            "Tổng của 1 đến  7 là: 28\n"
          ]
        }
      ]
    },
    {
      "cell_type": "markdown",
      "source": [
        "2 .S = 1 + 3 + 5 + ⋯ + n, với 0 < n ∈ N và n là số chẵn\n"
      ],
      "metadata": {
        "id": "PxrRNIvtz6J7"
      }
    },
    {
      "cell_type": "code",
      "source": [
        "n = abs(int(input(\"nhập một số nguyên :\")))\n",
        "s = 0\n",
        "for i in range (0,n,2):\n",
        "  i=i+1\n",
        "  s = s + i\n",
        "  print(i,s)\n",
        "print (\"Tổng các số chẵn từ 1 đến \",n,\"là:\",s)"
      ],
      "metadata": {
        "colab": {
          "base_uri": "https://localhost:8080/"
        },
        "id": "Tfnoup-dgNhQ",
        "outputId": "5254f59a-4638-4fa4-b5d7-d747bff4d9a0"
      },
      "execution_count": null,
      "outputs": [
        {
          "output_type": "stream",
          "name": "stdout",
          "text": [
            "nhập một số nguyên :4\n",
            "1 1\n",
            "3 4\n",
            "Tổng các số chẵn từ 1 đến  4 là: 4\n"
          ]
        }
      ]
    },
    {
      "cell_type": "markdown",
      "source": [
        "3. \n",
        "S = 2 + 4 + 6 + ... + n, với 0 < n ∈ N và n là số lẽ\n"
      ],
      "metadata": {
        "id": "xDFm1P6-z89n"
      }
    },
    {
      "cell_type": "code",
      "source": [
        "n = abs(int(input(\"nhập một số nguyên :\")))\n",
        "s = 0\n",
        "for i in range (1,n,2):\n",
        "  i=i+1\n",
        "  s = s + i\n",
        "  print(i,s)\n",
        "print (\"Tổng các số lẽ từ 1 đến \",n,\"là:\",s)"
      ],
      "metadata": {
        "colab": {
          "base_uri": "https://localhost:8080/"
        },
        "id": "aX5uLWUUy-rl",
        "outputId": "e4b516ee-98ce-489c-e69f-f351056e9dc1"
      },
      "execution_count": null,
      "outputs": [
        {
          "output_type": "stream",
          "name": "stdout",
          "text": [
            "nhập một số nguyên :4\n",
            "2 2\n",
            "4 6\n",
            "Tổng các số lẽ từ 1 đến  4 là: 6\n"
          ]
        }
      ]
    },
    {
      "cell_type": "markdown",
      "source": [
        "4. S = ln(1) + ln(2) + ... + ln(n), với n ∈ N và n > 0\n"
      ],
      "metadata": {
        "id": "KESc5pFv0Eh5"
      }
    },
    {
      "cell_type": "code",
      "source": [
        "from math import log\n",
        "n = abs(int(input(\"nhập một số nguyên :\")))\n",
        "s = 0\n",
        "for i in range (0,n):\n",
        "  i=i+1\n",
        "  s = s + log(i)\n",
        "  print(i,s)\n",
        "print (\"Tổng của 1 đến \",n,\"là:\",s)"
      ],
      "metadata": {
        "colab": {
          "base_uri": "https://localhost:8080/"
        },
        "id": "ETO9aGAa0HnG",
        "outputId": "45058050-19e1-4808-c994-5c37dc0062b0"
      },
      "execution_count": null,
      "outputs": [
        {
          "output_type": "stream",
          "name": "stdout",
          "text": [
            "nhập một số nguyên :4\n",
            "1 0.0\n",
            "2 0.6931471805599453\n",
            "3 1.791759469228055\n",
            "4 3.1780538303479453\n",
            "Tổng của 1 đến  4 là: 3.1780538303479453\n"
          ]
        }
      ]
    },
    {
      "cell_type": "markdown",
      "source": [
        "\n",
        "\n",
        "5.\n",
        "S = 1 +\n",
        "1/2\n",
        "+\n",
        "1/3+ ... +1/n\n",
        ", với n ∈ N và n > 0"
      ],
      "metadata": {
        "id": "EaNHS7x20IYR"
      }
    },
    {
      "cell_type": "code",
      "source": [
        "n = abs(int(input(\"nhập một số nguyên :\")))\n",
        "s = 1\n",
        "for i in range (1,n):\n",
        "  i=i+1\n",
        "  s = s + 1/i\n",
        "  print(i)\n",
        "print (\"Tổng của 1 đến \",1/n,\"là:\",s)"
      ],
      "metadata": {
        "colab": {
          "base_uri": "https://localhost:8080/"
        },
        "id": "CH-RdqJqxTN4",
        "outputId": "b8794e5c-04a2-4603-cdb2-2cf29a36591d"
      },
      "execution_count": null,
      "outputs": [
        {
          "output_type": "stream",
          "name": "stdout",
          "text": [
            "nhập một số nguyên :3\n",
            "2\n",
            "3\n",
            "Tổng của 1 đến  0.3333333333333333 là: 1.8333333333333333\n"
          ]
        }
      ]
    },
    {
      "cell_type": "code",
      "source": [],
      "metadata": {
        "id": "Vdcxa4WNxTL8"
      },
      "execution_count": null,
      "outputs": []
    },
    {
      "cell_type": "markdown",
      "source": [
        "Bài 2:"
      ],
      "metadata": {
        "id": "3H9MdP3x0wdl"
      }
    },
    {
      "cell_type": "markdown",
      "source": [
        "1. Tính giai thừa của số n nguyên dương, n! = 1 × 2 × 3 × ... × n\n"
      ],
      "metadata": {
        "id": "7lzoJHXwlInV"
      }
    },
    {
      "cell_type": "code",
      "execution_count": null,
      "metadata": {
        "colab": {
          "base_uri": "https://localhost:8080/"
        },
        "id": "FCwMqgvZamEA",
        "outputId": "1d003aa7-ae08-4026-dbd3-aa90bcfbdd95"
      },
      "outputs": [
        {
          "output_type": "stream",
          "name": "stdout",
          "text": [
            "nhập một số bất kỳ :3\n",
            "2 2\n",
            "3 6\n",
            "giai thừa của 3 là: 6\n"
          ]
        }
      ],
      "source": [
        "n = abs(int(input(\"nhập một số bất kỳ :\")))\n",
        "s = 1\n",
        "for i in range (1,n):\n",
        "  i=i+1\n",
        "  s = s * i\n",
        "  print(i,s)\n",
        "print (\"giai thừa của\",n,\"là:\",s)"
      ]
    },
    {
      "cell_type": "markdown",
      "source": [
        "2.P =\n",
        "1/n!\n",
        ", với n ∈ N và n > 0\n"
      ],
      "metadata": {
        "id": "F1FL6DSy1mMg"
      }
    },
    {
      "cell_type": "code",
      "source": [
        "n = abs(int(input(\"nhập một số bất kỳ :\")))\n",
        "s = 1\n",
        "for i in range (0,n):\n",
        "  i=i+1\n",
        "  s =s * i\n",
        "  P=1/s\n",
        "  print(i,s,P)\n",
        "print (\"giai thừa của\",n,\"là:\",P)"
      ],
      "metadata": {
        "colab": {
          "base_uri": "https://localhost:8080/"
        },
        "id": "ruCK9qeZ2H4o",
        "outputId": "555d65f9-0fa7-4e6b-bb37-4773712fa1ab"
      },
      "execution_count": null,
      "outputs": [
        {
          "output_type": "stream",
          "name": "stdout",
          "text": [
            "nhập một số bất kỳ :4\n",
            "1 1 1.0\n",
            "2 2 0.5\n",
            "3 6 0.16666666666666666\n",
            "4 24 0.041666666666666664\n",
            "giai thừa của 4 là: 0.041666666666666664\n"
          ]
        }
      ]
    },
    {
      "cell_type": "markdown",
      "source": [
        "3. P = 1 × 3 × 5 × ... × n, với n ∈ N và n là số lẻ\n"
      ],
      "metadata": {
        "id": "u5Yg4GPY4v8J"
      }
    },
    {
      "cell_type": "code",
      "source": [
        "n = abs(int(input(\"nhập một số nguyên :\")))\n",
        "s = 1\n",
        "for i in range (0,n,2):\n",
        "  i=i+1\n",
        "  s = s * i\n",
        "  print(i,s)\n",
        "print (\"giai thừa các số lẻ từ 1 đến \",n,\"là:\",s)"
      ],
      "metadata": {
        "colab": {
          "base_uri": "https://localhost:8080/"
        },
        "id": "cgaQaTMz4_0R",
        "outputId": "d9216e00-e85d-4121-8e39-d422e06ae45d"
      },
      "execution_count": null,
      "outputs": [
        {
          "output_type": "stream",
          "name": "stdout",
          "text": [
            "nhập một số nguyên :4\n",
            "1 1\n",
            "3 3\n",
            "giai thừa các số lẻ từ 1 đến  4 là: 3\n"
          ]
        }
      ]
    },
    {
      "cell_type": "markdown",
      "source": [
        "\n",
        "\n",
        "4. P = 2 × 4 × 6 × ... × n, với n ∈ N và n là số chẵn\n",
        "\n",
        "\n"
      ],
      "metadata": {
        "id": "ihi7ueOs5AM8"
      }
    },
    {
      "cell_type": "code",
      "source": [
        "n = abs(int(input(\"nhập một số nguyên :\")))\n",
        "s = 1\n",
        "for i in range (1,n,2):\n",
        "  i=i+1\n",
        "  s = s * i\n",
        "  print(i,s)\n",
        "print (\"giai thừa các số chẵn từ 1 đến \",n,\"là:\",s)"
      ],
      "metadata": {
        "colab": {
          "base_uri": "https://localhost:8080/"
        },
        "id": "cdkGyyY-4vb4",
        "outputId": "f257e08c-3fc7-4687-819a-0b2ee1022ac3"
      },
      "execution_count": null,
      "outputs": [
        {
          "output_type": "stream",
          "name": "stdout",
          "text": [
            "nhập một số nguyên :4\n",
            "2 2\n",
            "4 8\n",
            "giai thừa các số chẵn từ 1 đến  4 là: 8\n"
          ]
        }
      ]
    }
  ]
}