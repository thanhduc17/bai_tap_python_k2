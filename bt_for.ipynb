{
  "nbformat": 4,
  "nbformat_minor": 0,
  "metadata": {
    "colab": {
      "provenance": [],
      "authorship_tag": "ABX9TyM9fi2JOY/CSIjW3DLVMwlk",
      "include_colab_link": true
    },
    "kernelspec": {
      "name": "python3",
      "display_name": "Python 3"
    },
    "language_info": {
      "name": "python"
    }
  },
  "cells": [
    {
      "cell_type": "markdown",
      "metadata": {
        "id": "view-in-github",
        "colab_type": "text"
      },
      "source": [
        "<a href=\"https://colab.research.google.com/github/thanhduc17/bai_tap_python_k2/blob/master/bt_for.ipynb\" target=\"_parent\"><img src=\"https://colab.research.google.com/assets/colab-badge.svg\" alt=\"Open In Colab\"/></a>"
      ]
    },
    {
      "cell_type": "markdown",
      "source": [
        "Bài 1:\n",
        "\n",
        "\n",
        "1.S = 1 + 2 + 3 + ⋯ + n\n",
        " với 0 < n ∈ N"
      ],
      "metadata": {
        "id": "m_bTe9QdbUci"
      }
    },
    {
      "cell_type": "code",
      "source": [
        "import numpy as np\n",
        "n = int(input(\"nhập một số nguyên :\"))\n",
        "s = 1\n",
        "for i in range (1,n):\n",
        "      i=i+1\n",
        "      s = s + i\n",
        "      print(i,s) \n",
        "print (\"Tổng của 1 đến \",n,\"là:\",s)"
      ],
      "metadata": {
        "id": "kRRxuSX5avKN",
        "colab": {
          "base_uri": "https://localhost:8080/"
        },
        "outputId": "ea25f002-2288-4448-b492-e5a926305c09"
      },
      "execution_count": 1,
      "outputs": [
        {
          "output_type": "stream",
          "name": "stdout",
          "text": [
            "nhập một số nguyên :7\n",
            "2 3\n",
            "3 6\n",
            "4 10\n",
            "5 15\n",
            "6 21\n",
            "7 28\n",
            "Tổng của 1 đến  7 là: 28\n"
          ]
        }
      ]
    },
    {
      "cell_type": "markdown",
      "source": [
        "2 .S = 1 + 3 + 5 + ⋯ + n, với 0 < n ∈ N và n là số chẵn\n"
      ],
      "metadata": {
        "id": "PxrRNIvtz6J7"
      }
    },
    {
      "cell_type": "code",
      "source": [
        "n = abs(int(input(\"nhập một số nguyên :\")))\n",
        "s = 0\n",
        "for i in range (1,n,2):\n",
        "  i=i+1\n",
        "  s = s + i\n",
        "  print(i,s)\n",
        "print (\"Tổng các số chẵn từ 1 đến \",n,\"là:\",s)"
      ],
      "metadata": {
        "colab": {
          "base_uri": "https://localhost:8080/"
        },
        "id": "Tfnoup-dgNhQ",
        "outputId": "91198d01-42a8-41a3-ddb1-b9f24b149a82"
      },
      "execution_count": 2,
      "outputs": [
        {
          "output_type": "stream",
          "name": "stdout",
          "text": [
            "nhập một số nguyên :4\n",
            "2 2\n",
            "4 6\n",
            "Tổng các số chẵn từ 1 đến  4 là: 6\n"
          ]
        }
      ]
    },
    {
      "cell_type": "markdown",
      "source": [
        "3. \n",
        "S = 2 + 4 + 6 + ... + n, với 0 < n ∈ N và n là số lẽ\n"
      ],
      "metadata": {
        "id": "xDFm1P6-z89n"
      }
    },
    {
      "cell_type": "code",
      "source": [
        "n = abs(int(input(\"nhập một số nguyên :\")))\n",
        "s = 0\n",
        "for i in range (0,n,2):\n",
        "  i=i+1\n",
        "  s = s + i\n",
        "  print(i,s)\n",
        "print (\"Tổng các số lẽ từ 1 đến \",n,\"là:\",s)"
      ],
      "metadata": {
        "colab": {
          "base_uri": "https://localhost:8080/"
        },
        "id": "aX5uLWUUy-rl",
        "outputId": "93ee6836-74c7-48a1-8457-56e4cae33f0c"
      },
      "execution_count": 3,
      "outputs": [
        {
          "output_type": "stream",
          "name": "stdout",
          "text": [
            "nhập một số nguyên :4\n",
            "1 1\n",
            "3 4\n",
            "Tổng các số lẽ từ 1 đến  4 là: 4\n"
          ]
        }
      ]
    },
    {
      "cell_type": "markdown",
      "source": [
        "4. S = ln(1) + ln(2) + ... + ln(n), với n ∈ N và n > 0\n"
      ],
      "metadata": {
        "id": "KESc5pFv0Eh5"
      }
    },
    {
      "cell_type": "code",
      "source": [
        "from math import log\n",
        "n = abs(int(input(\"nhập một số nguyên :\")))\n",
        "s = 0\n",
        "for i in range (0,n):\n",
        "  i=i+1\n",
        "  s = s + log(i)\n",
        "  print(i,s)\n",
        "print (\"Tổng của 1 đến \",n,\"là:\",s)"
      ],
      "metadata": {
        "colab": {
          "base_uri": "https://localhost:8080/"
        },
        "id": "ETO9aGAa0HnG",
        "outputId": "609fbd2e-e9f6-4422-ed1f-86f1aec6c180"
      },
      "execution_count": 4,
      "outputs": [
        {
          "output_type": "stream",
          "name": "stdout",
          "text": [
            "nhập một số nguyên :5\n",
            "1 0.0\n",
            "2 0.6931471805599453\n",
            "3 1.791759469228055\n",
            "4 3.1780538303479453\n",
            "5 4.787491742782046\n",
            "Tổng của 1 đến  5 là: 4.787491742782046\n"
          ]
        }
      ]
    },
    {
      "cell_type": "markdown",
      "source": [
        "\n",
        "\n",
        "5.\n",
        "S = 1 +\n",
        "1/2\n",
        "+\n",
        "1/3+ ... +1/n\n",
        ", với n ∈ N và n > 0"
      ],
      "metadata": {
        "id": "EaNHS7x20IYR"
      }
    },
    {
      "cell_type": "code",
      "source": [
        "n = abs(int(input(\"nhập một số nguyên :\")))\n",
        "s = 1\n",
        "for i in range (1,n):\n",
        "  i=i+1\n",
        "  s = s + 1/i\n",
        "  print(i)\n",
        "print (\"Tổng của 1 đến \",1/n,\"là:\",s)"
      ],
      "metadata": {
        "colab": {
          "base_uri": "https://localhost:8080/"
        },
        "id": "CH-RdqJqxTN4",
        "outputId": "4503e1c3-51b0-4753-d2ed-51b86100a896"
      },
      "execution_count": 5,
      "outputs": [
        {
          "output_type": "stream",
          "name": "stdout",
          "text": [
            "nhập một số nguyên :8\n",
            "2\n",
            "3\n",
            "4\n",
            "5\n",
            "6\n",
            "7\n",
            "8\n",
            "Tổng của 1 đến  0.125 là: 2.7178571428571425\n"
          ]
        }
      ]
    },
    {
      "cell_type": "code",
      "source": [],
      "metadata": {
        "id": "Vdcxa4WNxTL8"
      },
      "execution_count": 5,
      "outputs": []
    },
    {
      "cell_type": "markdown",
      "source": [
        "Bài 2:"
      ],
      "metadata": {
        "id": "3H9MdP3x0wdl"
      }
    },
    {
      "cell_type": "markdown",
      "source": [
        "1. Tính giai thừa của số n nguyên dương, n! = 1 × 2 × 3 × ... × n\n"
      ],
      "metadata": {
        "id": "7lzoJHXwlInV"
      }
    },
    {
      "cell_type": "code",
      "execution_count": 6,
      "metadata": {
        "colab": {
          "base_uri": "https://localhost:8080/"
        },
        "id": "FCwMqgvZamEA",
        "outputId": "0ff04e67-9793-49c5-a604-fafc82169771"
      },
      "outputs": [
        {
          "output_type": "stream",
          "name": "stdout",
          "text": [
            "nhập một số bất kỳ :7\n",
            "2 2\n",
            "3 6\n",
            "4 24\n",
            "5 120\n",
            "6 720\n",
            "7 5040\n",
            "giai thừa của 7 là: 5040\n"
          ]
        }
      ],
      "source": [
        "n = abs(int(input(\"nhập một số bất kỳ :\")))\n",
        "s = 1\n",
        "for i in range (1,n):\n",
        "  i=i+1\n",
        "  s = s * i\n",
        "  print(i,s)\n",
        "print (\"giai thừa của\",n,\"là:\",s)"
      ]
    },
    {
      "cell_type": "markdown",
      "source": [
        "2.P =\n",
        "1/n!\n",
        ", với n ∈ N và n > 0\n"
      ],
      "metadata": {
        "id": "F1FL6DSy1mMg"
      }
    },
    {
      "cell_type": "code",
      "source": [
        "n = abs(int(input(\"nhập một số bất kỳ :\")))\n",
        "s = 1\n",
        "for i in range (0,n):\n",
        "  i=i+1\n",
        "  s =s * i\n",
        "  P=1/s\n",
        "  print(i,s,P)\n",
        "print (\"giai thừa của\",n,\"là:\",P)"
      ],
      "metadata": {
        "colab": {
          "base_uri": "https://localhost:8080/"
        },
        "id": "ruCK9qeZ2H4o",
        "outputId": "4b1af512-d958-497e-fbf8-0e427119f60d"
      },
      "execution_count": 7,
      "outputs": [
        {
          "output_type": "stream",
          "name": "stdout",
          "text": [
            "nhập một số bất kỳ :4\n",
            "1 1 1.0\n",
            "2 2 0.5\n",
            "3 6 0.16666666666666666\n",
            "4 24 0.041666666666666664\n",
            "giai thừa của 4 là: 0.041666666666666664\n"
          ]
        }
      ]
    },
    {
      "cell_type": "markdown",
      "source": [
        "3. P = 1 × 3 × 5 × ... × n, với n ∈ N và n là số lẻ\n"
      ],
      "metadata": {
        "id": "u5Yg4GPY4v8J"
      }
    },
    {
      "cell_type": "code",
      "source": [
        "n = abs(int(input(\"nhập một số nguyên :\")))\n",
        "s = 1\n",
        "for i in range (0,n,2):\n",
        "  i=i+1\n",
        "  s = s * i\n",
        "  print(i,s)\n",
        "print (\"giai thừa các số lẻ từ 1 đến \",n,\"là:\",s)"
      ],
      "metadata": {
        "colab": {
          "base_uri": "https://localhost:8080/"
        },
        "id": "cgaQaTMz4_0R",
        "outputId": "ba3a72ce-ebcb-44ac-bade-636029f4299c"
      },
      "execution_count": 8,
      "outputs": [
        {
          "output_type": "stream",
          "name": "stdout",
          "text": [
            "nhập một số nguyên :5\n",
            "1 1\n",
            "3 3\n",
            "5 15\n",
            "giai thừa các số lẻ từ 1 đến  5 là: 15\n"
          ]
        }
      ]
    },
    {
      "cell_type": "markdown",
      "source": [
        "\n",
        "\n",
        "4. P = 2 × 4 × 6 × ... × n, với n ∈ N và n là số chẵn\n",
        "\n",
        "\n"
      ],
      "metadata": {
        "id": "ihi7ueOs5AM8"
      }
    },
    {
      "cell_type": "code",
      "source": [
        "n = abs(int(input(\"nhập một số nguyên :\")))\n",
        "s = 1\n",
        "for i in range (1,n,2):\n",
        "  i=i+1\n",
        "  s = s * i\n",
        "  print(i,s)\n",
        "print (\"giai thừa các số chẵn từ 1 đến \",n,\"là:\",s)"
      ],
      "metadata": {
        "colab": {
          "base_uri": "https://localhost:8080/"
        },
        "id": "cdkGyyY-4vb4",
        "outputId": "45dc35d7-9bdb-412e-fa23-864ff35c63c1"
      },
      "execution_count": 10,
      "outputs": [
        {
          "output_type": "stream",
          "name": "stdout",
          "text": [
            "nhập một số nguyên :6\n",
            "2 2\n",
            "4 8\n",
            "6 48\n",
            "giai thừa các số chẵn từ 1 đến  6 là: 48\n"
          ]
        }
      ]
    }
  ]
}